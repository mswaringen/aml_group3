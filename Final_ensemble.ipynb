{
 "cells": [
  {
   "cell_type": "code",
   "execution_count": 1,
   "metadata": {
    "_cell_guid": "b1076dfc-b9ad-4769-8c92-a6c4dae69d19",
    "_uuid": "8f2839f25d086af736a60e9eeb907d3b93b6e0e5"
   },
   "outputs": [
    {
     "name": "stdout",
     "output_type": "stream",
     "text": [
      "ResNet len: 7653\n",
      "E5_68 len: 7653\n",
      "EfficientB0 len: 7653\n"
     ]
    }
   ],
   "source": [
    "import pandas as pd\n",
    "import numpy as np\n",
    "import statistics \n",
    "from statistics import *\n",
    "\n",
    "res_ResNet152 = pd.read_csv('../input/results/results_resnet_152.csv', delimiter=',')\n",
    "res_E5_68 = pd.read_csv('../input/results/results_E5_68pct.csv', delimiter=',')\n",
    "res_EfficientB0 = pd.read_csv('../input/results/myresults.csv', delimiter=',')\n",
    "\n",
    "n = len(res_ResNet152)\n",
    "\n",
    "pred1 = res_ResNet152['label']\n",
    "pred2 = res_E5_68['label']\n",
    "pred3 = res_EfficientB0['label']"
   ]
  },
  {
   "cell_type": "code",
   "execution_count": 2,
   "metadata": {},
   "outputs": [],
   "source": [
    "final_pred = np.array([])\n",
    "for i in range(0,n):\n",
    "    try:\n",
    "      final_pred = np.append(final_pred, str(mode([pred1[i], pred2[i], pred3[i]])))\n",
    "    except:\n",
    "      final_pred = np.append(final_pred, str(pred2[i]))\n",
    "    "
   ]
  },
  {
   "cell_type": "code",
   "execution_count": 3,
   "metadata": {},
   "outputs": [],
   "source": [
    "res_ResNet152['label'] = final_pred\n",
    "res_ResNet152.to_csv (r'max_voting_results.csv', index = False, header=True)"
   ]
  }
 ],
 "metadata": {
  "kernelspec": {
   "display_name": "Python 3",
   "language": "python",
   "name": "python3"
  },
  "language_info": {
   "codemirror_mode": {
    "name": "ipython",
    "version": 3
   },
   "file_extension": ".py",
   "mimetype": "text/x-python",
   "name": "python",
   "nbconvert_exporter": "python",
   "pygments_lexer": "ipython3",
   "version": "3.7.9"
  }
 },
 "nbformat": 4,
 "nbformat_minor": 4
}
